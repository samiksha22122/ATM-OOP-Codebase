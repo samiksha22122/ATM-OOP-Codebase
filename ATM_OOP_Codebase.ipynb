{
  "nbformat": 4,
  "nbformat_minor": 0,
  "metadata": {
    "colab": {
      "provenance": []
    },
    "kernelspec": {
      "name": "python3",
      "display_name": "Python 3"
    },
    "language_info": {
      "name": "python"
    }
  },
  "cells": [
    {
      "cell_type": "code",
      "source": [
        "class Atm:\n",
        "  def __init__(self):\n",
        "    print('Welcome to SBI ATM')\n",
        "    print(\"please insert your card\")\n",
        "    print('enter your pin and it should be 4 numbers only')\n",
        "    self.user_pin=1234\n",
        "    self.balance=10000\n",
        "    self.withdraw_amount=0\n",
        "    self.deposit_amount=0\n",
        "    while True:\n",
        "      try:\n",
        "        self.pin=eval(input())\n",
        "        self.pin_check()\n",
        "        if self.pin==1234:\n",
        "          self.menu()\n",
        "          break\n",
        "\n",
        "      except Exception as e:\n",
        "        print(f\"An error occurred: {e}\")       #suraj\n",
        "        print('please enter correct pin')\n",
        "\n",
        "\n",
        "  def menu(self):\n",
        "    print('''hello how would you like to proceed?\n",
        "    press 1 to create pin\n",
        "    press 2 to deposit\n",
        "    press 3 to withdraw\n",
        "    press 4 to check balance\n",
        "    press 5 to exit''')\n",
        "    button_number=input()\n",
        "\n",
        "    if button_number=='1':\n",
        "      print('please create new pin')\n",
        "      self.create_pin()\n",
        "\n",
        "    elif button_number=='2':\n",
        "      print('enter deposit number')\n",
        "      self.deposit()\n",
        "\n",
        "\n",
        "    elif button_number=='3':\n",
        "      print('enter withdraw number')\n",
        "      self.withdraw()\n",
        "\n",
        "\n",
        "    elif button_number=='4':\n",
        "      print('balance')\n",
        "      self.balance_func()\n",
        "\n",
        "    elif button_number=='5':\n",
        "      print('thank you for banking with us')\n",
        "    else:\n",
        "      print('please input only 1-5')\n",
        "\n",
        "  def create_pin(self):\n",
        "    try:\n",
        "      new_pin=eval(input())\n",
        "      if type(new_pin)==int and len(str(new_pin))==4:\n",
        "        print('your pin is updated')\n",
        "        self.pin=new_pin\n",
        "      else:\n",
        "        print('enter only 4 numbers')\n",
        "    except Exception as e:\n",
        "        print(f\"An error occurred: {e}\")\n",
        "\n",
        "  def deposit(self):\n",
        "    try:\n",
        "      self.deposit_amount=eval(input())\n",
        "      if type(self.deposit_amount)==int and self.deposit_amount>0:\n",
        "        print('amount is deposited',self.deposit_amount)\n",
        "      else:\n",
        "        print('enter correct deposit number')\n",
        "        self.balance+=self.deposit_amount\n",
        "        print(f'total balance is {self.balance}')\n",
        "    except Exception as e:\n",
        "        print(f\"An error occurred: {e}\")\n",
        "\n",
        "  def withdraw(self):\n",
        "    try:\n",
        "      self.withdraw_amount=eval(input())\n",
        "      if type(self.withdraw_amount)==int and self.withdraw_amount>0 and self.withdraw_amount<self.balance:\n",
        "        print('amount is withdrawed',self.withdraw_amount)\n",
        "      else:\n",
        "        print(f'your account is only having {self.balance}')\n",
        "      self.balance-=self.withdraw_amount\n",
        "      print(f'total balance is {self.balance}')\n",
        "    except Exception as e:\n",
        "        print(f\"An error occurred: {e}\")\n",
        "\n",
        "  def balance_func(self):\n",
        "    try:\n",
        "      self.balance=self.balance+self.deposit_amount-self.withdraw_amount\n",
        "      print(f'total balance is {self.balance}')\n",
        "    except Exception as e:\n",
        "        print(f\"An error occurred: {e}\")\n",
        "\n",
        "  def pin_check(self):\n",
        "    try:\n",
        "      if self.pin==self.user_pin:\n",
        "        print('thanks')\n",
        "      else:\n",
        "        print('please enter correct number')\n",
        "    except Exception as e:\n",
        "        print(f\"An error occurred: {e}\")"
      ],
      "metadata": {
        "collapsed": true,
        "id": "7Bd_YGQ0CM-t"
      },
      "execution_count": 233,
      "outputs": []
    },
    {
      "cell_type": "code",
      "source": [
        "obj=Atm()"
      ],
      "metadata": {
        "colab": {
          "base_uri": "https://localhost:8080/"
        },
        "id": "IdPjGd2oCM61",
        "outputId": "78ebe18e-dc31-41ab-af56-1f02b7907341"
      },
      "execution_count": 234,
      "outputs": [
        {
          "output_type": "stream",
          "name": "stdout",
          "text": [
            "Welcome to SBI ATM\n",
            "please insert your card\n",
            "enter your pin and it should be 4 numbers only\n",
            "1234\n",
            "thanks\n",
            "hello how would you like to proceed?\n",
            "    press 1 to create pin\n",
            "    press 2 to deposit\n",
            "    press 3 to withdraw\n",
            "    press 4 to check balance\n",
            "    press 5 to exit\n",
            "4\n",
            "balance\n",
            "total balance is 10000\n"
          ]
        }
      ]
    },
    {
      "cell_type": "code",
      "source": [],
      "metadata": {
        "id": "bGeuMyL6XDQz"
      },
      "execution_count": null,
      "outputs": []
    }
  ]
}